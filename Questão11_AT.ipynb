{
  "nbformat": 4,
  "nbformat_minor": 0,
  "metadata": {
    "colab": {
      "name": "Questão11_AT.ipynb",
      "provenance": [],
      "collapsed_sections": [],
      "authorship_tag": "ABX9TyM6aZJp2idcMvBnKjhm+2yd",
      "include_colab_link": true
    },
    "kernelspec": {
      "name": "python3",
      "display_name": "Python 3"
    }
  },
  "cells": [
    {
      "cell_type": "markdown",
      "metadata": {
        "id": "view-in-github",
        "colab_type": "text"
      },
      "source": [
        "<a href=\"https://colab.research.google.com/github/marianabsctba/AT_Fundamentos_Python/blob/main/Quest%C3%A3o11_AT.ipynb\" target=\"_parent\"><img src=\"https://colab.research.google.com/assets/colab-badge.svg\" alt=\"Open In Colab\"/></a>"
      ]
    },
    {
      "cell_type": "markdown",
      "metadata": {
        "id": "9V5AvhTzW1hY"
      },
      "source": [
        "#Obtenha, usando requests ou urllib, dentro de seu programa em Python, o csv do link:\r\n",
        "https://sites.google.com/site/dr2fundamentospython/arquivos/Video_Games_Sales_as_at_22_Dec_2016.csv\r\n",
        "Obtenha, dentre os jogos do gênero de ação (Action), tiro (Shooter) e plataforma (Platform):"
      ]
    },
    {
      "cell_type": "markdown",
      "metadata": {
        "id": "86fW6liiXbOQ"
      },
      "source": [
        "#A) Quais são as três marcas que mais publicaram jogos dos três gêneros combinados? Indique também o total de jogos de cada marca."
      ]
    },
    {
      "cell_type": "code",
      "metadata": {
        "id": "Nl9iUquBXmVT"
      },
      "source": [
        "import requests, csv, pandas as pd\r\n",
        "\r\n",
        "def download_file(url):\r\n",
        "    local_filename = url.split('/')[-1]\r\n",
        "    with requests.get(url, stream=True) as r:\r\n",
        "        r.raise_for_status()\r\n",
        "        with open(local_filename, 'wb') as f:\r\n",
        "            for chunk in r.iter_content(chunk_size=8192): \r\n",
        "                f.write(chunk)\r\n",
        "    return local_filename\r\n",
        "\r\n",
        "\r\n",
        "\r\n",
        "def filter_genres(data_frame):\r\n",
        "    return  data_frame[ (data_frame['Genre'] == 'Action') |\r\n",
        "                        (data_frame['Genre'] == 'Shooter') |\r\n",
        "                        (data_frame['Genre'] == 'Platform') ]\r\n",
        "\r\n",
        "\r\n",
        "\r\n",
        "file =  download_file('https://sites.google.com/site/dr2fundamentospython/arquivos/Video_Games_Sales_as_at_22_Dec_2016.csv')\r\n",
        "\r\n",
        "\r\n",
        "dt_frame = pd.read_csv(file, sep=',')\r\n",
        "frame_genre = dt_frame[ (dt_frame['Genre'] == 'Action') |\r\n",
        "                        (dt_frame['Genre'] == 'Shooter') |\r\n",
        "                        (dt_frame['Genre'] == 'Platform') ]\r\n",
        "\r\n",
        "agg_dt_frame = frame_genre.groupby(['Publisher']).agg({'Publisher': ['count'], 'Global_Sales': ['sum']})"
      ],
      "execution_count": 4,
      "outputs": []
    },
    {
      "cell_type": "markdown",
      "metadata": {
        "id": "2dxCeTzYYGGc"
      },
      "source": [
        "#A) Quais são as três marcas que mais publicaram jogos dos três gêneros combinados? Indique também o total de jogos de cada marca."
      ]
    },
    {
      "cell_type": "markdown",
      "metadata": {
        "id": "KLYVNEX9YspK"
      },
      "source": [
        "As empresas que mais venderam jogos nos três gêneros combinados foram Activision, Ubsioft e Eletronic Arts. A coluna count explicita o número de jogos. Adicionalmente foi incluída a coluna de vendas globais"
      ]
    },
    {
      "cell_type": "code",
      "metadata": {
        "colab": {
          "base_uri": "https://localhost:8080/",
          "height": 195
        },
        "id": "LcOn45ACYJ-N",
        "outputId": "698190af-daa7-4da7-f1e7-d24f0c22bd4a"
      },
      "source": [
        "agg_dt_frame = frame_genre.groupby(['Publisher']).agg({'Publisher': ['count'], 'Global_Sales': ['sum']})\r\n",
        "agg_dt_frame.sort_values(ascending=False, by=('Publisher', 'count')).head(3)"
      ],
      "execution_count": 7,
      "outputs": [
        {
          "output_type": "execute_result",
          "data": {
            "text/html": [
              "<div>\n",
              "<style scoped>\n",
              "    .dataframe tbody tr th:only-of-type {\n",
              "        vertical-align: middle;\n",
              "    }\n",
              "\n",
              "    .dataframe tbody tr th {\n",
              "        vertical-align: top;\n",
              "    }\n",
              "\n",
              "    .dataframe thead tr th {\n",
              "        text-align: left;\n",
              "    }\n",
              "\n",
              "    .dataframe thead tr:last-of-type th {\n",
              "        text-align: right;\n",
              "    }\n",
              "</style>\n",
              "<table border=\"1\" class=\"dataframe\">\n",
              "  <thead>\n",
              "    <tr>\n",
              "      <th></th>\n",
              "      <th>Publisher</th>\n",
              "      <th>Global_Sales</th>\n",
              "    </tr>\n",
              "    <tr>\n",
              "      <th></th>\n",
              "      <th>count</th>\n",
              "      <th>sum</th>\n",
              "    </tr>\n",
              "    <tr>\n",
              "      <th>Publisher</th>\n",
              "      <th></th>\n",
              "      <th></th>\n",
              "    </tr>\n",
              "  </thead>\n",
              "  <tbody>\n",
              "    <tr>\n",
              "      <th>Activision</th>\n",
              "      <td>538</td>\n",
              "      <td>480.94</td>\n",
              "    </tr>\n",
              "    <tr>\n",
              "      <th>Ubisoft</th>\n",
              "      <td>360</td>\n",
              "      <td>231.97</td>\n",
              "    </tr>\n",
              "    <tr>\n",
              "      <th>Electronic Arts</th>\n",
              "      <td>344</td>\n",
              "      <td>287.13</td>\n",
              "    </tr>\n",
              "  </tbody>\n",
              "</table>\n",
              "</div>"
            ],
            "text/plain": [
              "                Publisher Global_Sales\n",
              "                    count          sum\n",
              "Publisher                             \n",
              "Activision            538       480.94\n",
              "Ubisoft               360       231.97\n",
              "Electronic Arts       344       287.13"
            ]
          },
          "metadata": {
            "tags": []
          },
          "execution_count": 7
        }
      ]
    },
    {
      "cell_type": "markdown",
      "metadata": {
        "id": "9xI07C1CZBqL"
      },
      "source": [
        "#B) Quais são as três marcas que mais venderam os três gêneros combinados? Indique também o total de vendas de cada marca."
      ]
    },
    {
      "cell_type": "markdown",
      "metadata": {
        "id": "GqKtocjKZc3C"
      },
      "source": [
        "As marcas que mais venderam os gêneros combinados foram Nintendo, Activision e Eletronic Arts. A coluna \"Global_Sales\" indica o total de vendas de cada marca. Adicionalmente, foi incluída a coluna count, que se refere ao número de jogos."
      ]
    },
    {
      "cell_type": "code",
      "metadata": {
        "colab": {
          "base_uri": "https://localhost:8080/",
          "height": 195
        },
        "id": "td3_-IcSZDOP",
        "outputId": "8d5b5564-6532-4c16-b9c7-ec03a86f8286"
      },
      "source": [
        "agg_dt_frame.sort_values(ascending=False, by=('Global_Sales', 'sum')).head(3)"
      ],
      "execution_count": 8,
      "outputs": [
        {
          "output_type": "execute_result",
          "data": {
            "text/html": [
              "<div>\n",
              "<style scoped>\n",
              "    .dataframe tbody tr th:only-of-type {\n",
              "        vertical-align: middle;\n",
              "    }\n",
              "\n",
              "    .dataframe tbody tr th {\n",
              "        vertical-align: top;\n",
              "    }\n",
              "\n",
              "    .dataframe thead tr th {\n",
              "        text-align: left;\n",
              "    }\n",
              "\n",
              "    .dataframe thead tr:last-of-type th {\n",
              "        text-align: right;\n",
              "    }\n",
              "</style>\n",
              "<table border=\"1\" class=\"dataframe\">\n",
              "  <thead>\n",
              "    <tr>\n",
              "      <th></th>\n",
              "      <th>Publisher</th>\n",
              "      <th>Global_Sales</th>\n",
              "    </tr>\n",
              "    <tr>\n",
              "      <th></th>\n",
              "      <th>count</th>\n",
              "      <th>sum</th>\n",
              "    </tr>\n",
              "    <tr>\n",
              "      <th>Publisher</th>\n",
              "      <th></th>\n",
              "      <th></th>\n",
              "    </tr>\n",
              "  </thead>\n",
              "  <tbody>\n",
              "    <tr>\n",
              "      <th>Nintendo</th>\n",
              "      <td>217</td>\n",
              "      <td>623.24</td>\n",
              "    </tr>\n",
              "    <tr>\n",
              "      <th>Activision</th>\n",
              "      <td>538</td>\n",
              "      <td>480.94</td>\n",
              "    </tr>\n",
              "    <tr>\n",
              "      <th>Electronic Arts</th>\n",
              "      <td>344</td>\n",
              "      <td>287.13</td>\n",
              "    </tr>\n",
              "  </tbody>\n",
              "</table>\n",
              "</div>"
            ],
            "text/plain": [
              "                Publisher Global_Sales\n",
              "                    count          sum\n",
              "Publisher                             \n",
              "Nintendo              217       623.24\n",
              "Activision            538       480.94\n",
              "Electronic Arts       344       287.13"
            ]
          },
          "metadata": {
            "tags": []
          },
          "execution_count": 8
        }
      ]
    },
    {
      "cell_type": "markdown",
      "metadata": {
        "id": "ZQqVElLeaAaT"
      },
      "source": [
        "#C) Qual é a marca com mais publicações em cada um dos gêneros nos últimos dez anos no Japão? Indique também o número total de jogos dela"
      ]
    },
    {
      "cell_type": "markdown",
      "metadata": {
        "id": "BEhpXGwtblzq"
      },
      "source": [
        "As empresas com mais publicações são Nintendo (Platform), Namco (Action) e Activision(Shooter).  Aproveitei o formato do código para disponibilizar as vendas, já de antemão."
      ]
    },
    {
      "cell_type": "code",
      "metadata": {
        "colab": {
          "base_uri": "https://localhost:8080/",
          "height": 136
        },
        "id": "1jbFQ4BPaHEF",
        "outputId": "ebca7247-bde5-4535-e6b4-7ccdf4f10508"
      },
      "source": [
        "data = pd.read_csv('https://sites.google.com/site/dr2fundamentospython/arquivos/Video_Games_Sales_as_at_22_Dec_2016.csv')\r\n",
        "\r\n",
        "data[data['Genre'].isin(['Action', 'Shooter', 'Platform'])]\r\n",
        "\r\n",
        "filter_ = ((data['Genre'].isin(['Action', 'Shooter', 'Platform'])) &\r\n",
        "           (data['JP_Sales'] > 0) & \r\n",
        "           (data['Year_of_Release'] >= 2010))\r\n",
        "\r\n",
        "agg_data_count = data[filter_].groupby(['Genre', 'Publisher'], as_index=False).agg({\"Platform\": 'count'}).rename(columns={'Platform': 'contagem'})\r\n",
        "\r\n",
        "agg_data_sum = data[filter_].groupby(['Genre', 'Publisher'], as_index=False).agg({\"JP_Sales\": 'sum'}).rename(columns={'JP_Sales': 'Total Vendas'})\r\n",
        "agg_data_sum = agg_data_sum.sort_values(by='Total Vendas', ascending=False)\r\n",
        "agg_data_sum = agg_data_sum.drop_duplicates(subset='Genre', keep='first')\r\n",
        "agg_data_sum"
      ],
      "execution_count": 34,
      "outputs": [
        {
          "output_type": "execute_result",
          "data": {
            "text/html": [
              "<div>\n",
              "<style scoped>\n",
              "    .dataframe tbody tr th:only-of-type {\n",
              "        vertical-align: middle;\n",
              "    }\n",
              "\n",
              "    .dataframe tbody tr th {\n",
              "        vertical-align: top;\n",
              "    }\n",
              "\n",
              "    .dataframe thead th {\n",
              "        text-align: right;\n",
              "    }\n",
              "</style>\n",
              "<table border=\"1\" class=\"dataframe\">\n",
              "  <thead>\n",
              "    <tr style=\"text-align: right;\">\n",
              "      <th></th>\n",
              "      <th>Genre</th>\n",
              "      <th>Publisher</th>\n",
              "      <th>Total Vendas</th>\n",
              "    </tr>\n",
              "  </thead>\n",
              "  <tbody>\n",
              "    <tr>\n",
              "      <th>88</th>\n",
              "      <td>Platform</td>\n",
              "      <td>Nintendo</td>\n",
              "      <td>14.44</td>\n",
              "    </tr>\n",
              "    <tr>\n",
              "      <th>46</th>\n",
              "      <td>Action</td>\n",
              "      <td>Namco Bandai Games</td>\n",
              "      <td>13.11</td>\n",
              "    </tr>\n",
              "    <tr>\n",
              "      <th>98</th>\n",
              "      <td>Shooter</td>\n",
              "      <td>Activision</td>\n",
              "      <td>3.85</td>\n",
              "    </tr>\n",
              "  </tbody>\n",
              "</table>\n",
              "</div>"
            ],
            "text/plain": [
              "       Genre           Publisher  Total Vendas\n",
              "88  Platform            Nintendo         14.44\n",
              "46    Action  Namco Bandai Games         13.11\n",
              "98   Shooter          Activision          3.85"
            ]
          },
          "metadata": {
            "tags": []
          },
          "execution_count": 34
        }
      ]
    },
    {
      "cell_type": "markdown",
      "metadata": {
        "id": "-psANmovcCln"
      },
      "source": [
        "Porém, quanto ao número total de jogos, este pode ser representado pela coluna \"Contagem\": "
      ]
    },
    {
      "cell_type": "code",
      "metadata": {
        "colab": {
          "base_uri": "https://localhost:8080/",
          "height": 136
        },
        "id": "OM_jIWFbdNAY",
        "outputId": "42ab1e4b-1725-4d5d-d4d1-d90f887420f5"
      },
      "source": [
        "join_data = agg_data_count.merge(\r\n",
        "    right=agg_data_sum,\r\n",
        "    how='inner',\r\n",
        "    on=['Genre', 'Publisher']\r\n",
        ")\r\n",
        "\r\n",
        "join_data.sort_values(by=['contagem', 'Total Vendas'], ascending=False).head(10)"
      ],
      "execution_count": 22,
      "outputs": [
        {
          "output_type": "execute_result",
          "data": {
            "text/html": [
              "<div>\n",
              "<style scoped>\n",
              "    .dataframe tbody tr th:only-of-type {\n",
              "        vertical-align: middle;\n",
              "    }\n",
              "\n",
              "    .dataframe tbody tr th {\n",
              "        vertical-align: top;\n",
              "    }\n",
              "\n",
              "    .dataframe thead th {\n",
              "        text-align: right;\n",
              "    }\n",
              "</style>\n",
              "<table border=\"1\" class=\"dataframe\">\n",
              "  <thead>\n",
              "    <tr style=\"text-align: right;\">\n",
              "      <th></th>\n",
              "      <th>Genre</th>\n",
              "      <th>Publisher</th>\n",
              "      <th>contagem</th>\n",
              "      <th>Total Vendas</th>\n",
              "    </tr>\n",
              "  </thead>\n",
              "  <tbody>\n",
              "    <tr>\n",
              "      <th>0</th>\n",
              "      <td>Action</td>\n",
              "      <td>Namco Bandai Games</td>\n",
              "      <td>140</td>\n",
              "      <td>13.11</td>\n",
              "    </tr>\n",
              "    <tr>\n",
              "      <th>2</th>\n",
              "      <td>Shooter</td>\n",
              "      <td>Activision</td>\n",
              "      <td>23</td>\n",
              "      <td>3.85</td>\n",
              "    </tr>\n",
              "    <tr>\n",
              "      <th>1</th>\n",
              "      <td>Platform</td>\n",
              "      <td>Nintendo</td>\n",
              "      <td>21</td>\n",
              "      <td>14.44</td>\n",
              "    </tr>\n",
              "  </tbody>\n",
              "</table>\n",
              "</div>"
            ],
            "text/plain": [
              "      Genre           Publisher  contagem  Total Vendas\n",
              "0    Action  Namco Bandai Games       140         13.11\n",
              "2   Shooter          Activision        23          3.85\n",
              "1  Platform            Nintendo        21         14.44"
            ]
          },
          "metadata": {
            "tags": []
          },
          "execution_count": 22
        }
      ]
    },
    {
      "cell_type": "markdown",
      "metadata": {
        "id": "Q9p7l5D6eQLu"
      },
      "source": [
        "#D) Qual foi a marca que mais vendeu em cada um desses gêneros nos últimos dez anos, no Japão? Indique também o total de vendas dela.\r\n",
        "\r\n",
        "Observação: já havia inserido acima, mas só para frisar"
      ]
    },
    {
      "cell_type": "code",
      "metadata": {
        "colab": {
          "base_uri": "https://localhost:8080/",
          "height": 136
        },
        "id": "wAGuP1EzffX_",
        "outputId": "9093a37f-5576-4cab-d4cf-9cb44f9e8d76"
      },
      "source": [
        "join_data = agg_data_count.merge(\r\n",
        "    right=agg_data_sum,\r\n",
        "    how='inner',\r\n",
        "    on=['Genre', 'Publisher']\r\n",
        ")\r\n",
        "\r\n",
        "join_data.sort_values(by=['contagem', 'Total Vendas'], ascending=False).head(10)"
      ],
      "execution_count": 35,
      "outputs": [
        {
          "output_type": "execute_result",
          "data": {
            "text/html": [
              "<div>\n",
              "<style scoped>\n",
              "    .dataframe tbody tr th:only-of-type {\n",
              "        vertical-align: middle;\n",
              "    }\n",
              "\n",
              "    .dataframe tbody tr th {\n",
              "        vertical-align: top;\n",
              "    }\n",
              "\n",
              "    .dataframe thead th {\n",
              "        text-align: right;\n",
              "    }\n",
              "</style>\n",
              "<table border=\"1\" class=\"dataframe\">\n",
              "  <thead>\n",
              "    <tr style=\"text-align: right;\">\n",
              "      <th></th>\n",
              "      <th>Genre</th>\n",
              "      <th>Publisher</th>\n",
              "      <th>contagem</th>\n",
              "      <th>Total Vendas</th>\n",
              "    </tr>\n",
              "  </thead>\n",
              "  <tbody>\n",
              "    <tr>\n",
              "      <th>0</th>\n",
              "      <td>Action</td>\n",
              "      <td>Namco Bandai Games</td>\n",
              "      <td>140</td>\n",
              "      <td>13.11</td>\n",
              "    </tr>\n",
              "    <tr>\n",
              "      <th>2</th>\n",
              "      <td>Shooter</td>\n",
              "      <td>Activision</td>\n",
              "      <td>23</td>\n",
              "      <td>3.85</td>\n",
              "    </tr>\n",
              "    <tr>\n",
              "      <th>1</th>\n",
              "      <td>Platform</td>\n",
              "      <td>Nintendo</td>\n",
              "      <td>21</td>\n",
              "      <td>14.44</td>\n",
              "    </tr>\n",
              "  </tbody>\n",
              "</table>\n",
              "</div>"
            ],
            "text/plain": [
              "      Genre           Publisher  contagem  Total Vendas\n",
              "0    Action  Namco Bandai Games       140         13.11\n",
              "2   Shooter          Activision        23          3.85\n",
              "1  Platform            Nintendo        21         14.44"
            ]
          },
          "metadata": {
            "tags": []
          },
          "execution_count": 35
        }
      ]
    }
  ]
}