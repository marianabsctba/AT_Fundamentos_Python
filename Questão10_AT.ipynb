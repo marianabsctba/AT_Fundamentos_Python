{
  "nbformat": 4,
  "nbformat_minor": 0,
  "metadata": {
    "colab": {
      "name": "Questão 10",
      "provenance": [],
      "collapsed_sections": [],
      "authorship_tag": "ABX9TyM3fUeNCjQRx9c14ooM6v/S",
      "include_colab_link": true
    },
    "kernelspec": {
      "name": "python3",
      "display_name": "Python 3"
    }
  },
  "cells": [
    {
      "cell_type": "markdown",
      "metadata": {
        "id": "view-in-github",
        "colab_type": "text"
      },
      "source": [
        "<a href=\"https://colab.research.google.com/github/marianabsctba/AT_Fundamentos_Python/blob/main/Quest%C3%A3o10_AT.ipynb\" target=\"_parent\"><img src=\"https://colab.research.google.com/assets/colab-badge.svg\" alt=\"Open In Colab\"/></a>"
      ]
    },
    {
      "cell_type": "code",
      "metadata": {
        "id": "EogiH4HSP8wb"
      },
      "source": [
        "import requests, csv, pandas as pd\r\n",
        "\r\n",
        "def download_file(url):\r\n",
        "    local_filename = url.split('/')[-1]\r\n",
        "    with requests.get(url, stream=True) as r:\r\n",
        "        r.raise_for_status()\r\n",
        "        with open(local_filename, 'wb') as f:\r\n",
        "            for chunk in r.iter_content(chunk_size=8192): \r\n",
        "                f.write(chunk)\r\n",
        "    return local_filename\r\n",
        "\r\n",
        "\r\n",
        "\r\n",
        "file =  download_file('https://sites.google.com/site/dr2fundamentospython/arquivos/Winter_Olympics_Medals.csv')\r\n",
        "\r\n",
        "\r\n",
        "\r\n",
        "dt_frame = pd.read_csv(file, sep=',')\r\n",
        "dt_paises = dt_frame[(dt_frame['NOC'] == 'SWE') | \r\n",
        "                     (dt_frame['NOC'] == 'DEN') | \r\n",
        "                     (dt_frame['NOC'] == 'NOR')]\r\n",
        "\r\n",
        "dt_filtra_ano = dt_paises[(dt_paises['Year'] > 2000)]\r\n",
        "\r\n",
        "dt_filtrado_esportes = dt_filtra_ano[(dt_filtra_ano['Sport'] == 'Curling') |\r\n",
        "                       (dt_filtra_ano['Sport'] == 'Skating') |\r\n",
        "                       (dt_filtra_ano['Sport'] == 'Skiing') | \r\n",
        "                       (dt_filtra_ano['Sport'] == 'Ice Hockey')]\r\n"
      ],
      "execution_count": null,
      "outputs": []
    },
    {
      "cell_type": "code",
      "metadata": {
        "colab": {
          "base_uri": "https://localhost:8080/",
          "height": 106
        },
        "id": "48elwvI4RsDz",
        "outputId": "caf7c98a-a3ea-4279-f830-7e3d7e17043d"
      },
      "source": [
        "dt_curling = dt_filtrado_esportes[(dt_filtrado_esportes['Sport'] == 'Curling') &\r\n",
        "             (dt_filtrado_esportes['Medal'] == 'Gold')]\r\n",
        "\r\n"
      ],
      "execution_count": 18,
      "outputs": [
        {
          "output_type": "execute_result",
          "data": {
            "text/html": [
              "<div>\n",
              "<style scoped>\n",
              "    .dataframe tbody tr th:only-of-type {\n",
              "        vertical-align: middle;\n",
              "    }\n",
              "\n",
              "    .dataframe tbody tr th {\n",
              "        vertical-align: top;\n",
              "    }\n",
              "\n",
              "    .dataframe thead th {\n",
              "        text-align: right;\n",
              "    }\n",
              "</style>\n",
              "<table border=\"1\" class=\"dataframe\">\n",
              "  <thead>\n",
              "    <tr style=\"text-align: right;\">\n",
              "      <th></th>\n",
              "      <th>Year</th>\n",
              "      <th>City</th>\n",
              "      <th>Sport</th>\n",
              "      <th>Discipline</th>\n",
              "      <th>NOC</th>\n",
              "      <th>Event</th>\n",
              "      <th>Event gender</th>\n",
              "      <th>Medal</th>\n",
              "    </tr>\n",
              "  </thead>\n",
              "  <tbody>\n",
              "    <tr>\n",
              "      <th>1972</th>\n",
              "      <td>2002</td>\n",
              "      <td>Salt Lake City</td>\n",
              "      <td>Curling</td>\n",
              "      <td>Curling</td>\n",
              "      <td>NOR</td>\n",
              "      <td>curling</td>\n",
              "      <td>M</td>\n",
              "      <td>Gold</td>\n",
              "    </tr>\n",
              "    <tr>\n",
              "      <th>2272</th>\n",
              "      <td>2006</td>\n",
              "      <td>Turin</td>\n",
              "      <td>Curling</td>\n",
              "      <td>Curling</td>\n",
              "      <td>SWE</td>\n",
              "      <td>curling</td>\n",
              "      <td>W</td>\n",
              "      <td>Gold</td>\n",
              "    </tr>\n",
              "  </tbody>\n",
              "</table>\n",
              "</div>"
            ],
            "text/plain": [
              "      Year            City    Sport Discipline  NOC    Event Event gender Medal\n",
              "1972  2002  Salt Lake City  Curling    Curling  NOR  curling            M  Gold\n",
              "2272  2006           Turin  Curling    Curling  SWE  curling            W  Gold"
            ]
          },
          "metadata": {
            "tags": []
          },
          "execution_count": 18
        }
      ]
    },
    {
      "cell_type": "markdown",
      "metadata": {
        "id": "PkwcJMXOSUu9"
      },
      "source": [
        "#A) Dentre os seguintes países nórdicos: Suécia, Dinamarca e Noruega, verifique: No século XXI (a partir de 2001), qual foi o maior medalhista de ouro, considerando apenas as seguintes modalidades: i) Curling ii) Patinação no gelo (skating) iii) Esqui (skiing) iv) Hóquei sobre o gelo (ice hockey) "
      ]
    },
    {
      "cell_type": "markdown",
      "metadata": {
        "id": "QBPINQAjTXPC"
      },
      "source": [
        "Relatório Curling: empate entre Noruega e Suécia, cada qual com 1 medalha de ouro neste esporte"
      ]
    },
    {
      "cell_type": "code",
      "metadata": {
        "colab": {
          "base_uri": "https://localhost:8080/"
        },
        "id": "P_NvTZz3SgKB",
        "outputId": "349e4de4-c862-44b8-e177-3c15c887051d"
      },
      "source": [
        "dt_curling.groupby(['NOC'])['NOC'].count()\r\n"
      ],
      "execution_count": 19,
      "outputs": [
        {
          "output_type": "execute_result",
          "data": {
            "text/plain": [
              "NOC\n",
              "NOR    1\n",
              "SWE    1\n",
              "Name: NOC, dtype: int64"
            ]
          },
          "metadata": {
            "tags": []
          },
          "execution_count": 19
        }
      ]
    },
    {
      "cell_type": "markdown",
      "metadata": {
        "id": "2qXrzonMTsm9"
      },
      "source": [
        "Relatório skating: nenhum resultado encontrado."
      ]
    },
    {
      "cell_type": "code",
      "metadata": {
        "colab": {
          "base_uri": "https://localhost:8080/"
        },
        "id": "ZRa4H-lzTPUD",
        "outputId": "5431e326-57d3-4959-87a5-0305e08d0de6"
      },
      "source": [
        "dt_skating = dt_filtrado_esportes[(dt_filtrado_esportes['Sport'] == 'Skating') & \r\n",
        "            (dt_filtrado_esportes['Medal'] == 'Gold')]\r\n",
        "\r\n",
        "dt_skating.groupby(['NOC'])['NOC'].count()"
      ],
      "execution_count": 23,
      "outputs": [
        {
          "output_type": "execute_result",
          "data": {
            "text/plain": [
              "Series([], Name: NOC, dtype: int64)"
            ]
          },
          "metadata": {
            "tags": []
          },
          "execution_count": 23
        }
      ]
    },
    {
      "cell_type": "markdown",
      "metadata": {
        "id": "ykSncS4BUBl6"
      },
      "source": [
        "Relatório skiing: O maior medalhista de ouro é a Noruega (10 medalhas) e o segundo maior é a Suécia (4 medalhas)"
      ]
    },
    {
      "cell_type": "code",
      "metadata": {
        "colab": {
          "base_uri": "https://localhost:8080/"
        },
        "id": "HRJ-px8bUWDw",
        "outputId": "f089a526-63f8-43e9-a1d8-47f8333c0e70"
      },
      "source": [
        "dt_skiing = dt_filtrado_esportes[(dt_filtrado_esportes['Sport'] == 'Skiing') & \r\n",
        "            (dt_filtrado_esportes['Medal'] == 'Gold')]\r\n",
        "\r\n",
        "dt_skiing.groupby(['NOC'])['NOC'].count()"
      ],
      "execution_count": 26,
      "outputs": [
        {
          "output_type": "execute_result",
          "data": {
            "text/plain": [
              "NOC\n",
              "NOR    10\n",
              "SWE     4\n",
              "Name: NOC, dtype: int64"
            ]
          },
          "metadata": {
            "tags": []
          },
          "execution_count": 26
        }
      ]
    },
    {
      "cell_type": "markdown",
      "metadata": {
        "id": "XCGw1RrfU6s3"
      },
      "source": [
        "Relatório Ice Hockey: O maior medalhista de ouro é a Suécia (1 medalha)"
      ]
    },
    {
      "cell_type": "code",
      "metadata": {
        "colab": {
          "base_uri": "https://localhost:8080/"
        },
        "id": "3V3DmesbU9MX",
        "outputId": "533496e3-18bd-4818-851c-ee7f93ff82e1"
      },
      "source": [
        "dt_ice_hockey = dt_filtrado_esportes[(dt_filtrado_esportes['Sport'] == 'Ice Hockey') & \r\n",
        "                (dt_filtrado_esportes['Medal'] == 'Gold')]\r\n",
        "dt_ice_hockey.groupby(['NOC'])['NOC'].count()"
      ],
      "execution_count": 27,
      "outputs": [
        {
          "output_type": "execute_result",
          "data": {
            "text/plain": [
              "NOC\n",
              "SWE    1\n",
              "Name: NOC, dtype: int64"
            ]
          },
          "metadata": {
            "tags": []
          },
          "execution_count": 27
        }
      ]
    },
    {
      "cell_type": "markdown",
      "metadata": {
        "id": "rV-M4swxVRlO"
      },
      "source": [
        "#B) Para cada esporte, considere todas as modalidades, tanto no masculino quanto no feminino. Sua resposta deve imprimir um relatório mostrando o total de medalhas de cada um dos países e em que esporte, ano, cidade e gênero (masculino ou feminino) cada medalha foi obtida."
      ]
    },
    {
      "cell_type": "markdown",
      "metadata": {
        "id": "iS2F-R6YVuvo"
      },
      "source": [
        "Segue relatório realizando a contagem do número de medalhas nos termos propostos pelo enunciado."
      ]
    },
    {
      "cell_type": "code",
      "metadata": {
        "colab": {
          "base_uri": "https://localhost:8080/",
          "height": 431
        },
        "id": "ey48H-0rVeYl",
        "outputId": "9aa26f3b-f217-4cef-af9d-521ad137c31a"
      },
      "source": [
        "q_b= dt_frame.groupby(['NOC', 'Sport', 'Year','City','Event gender'])[['Medal']].count()\r\n",
        "q_b"
      ],
      "execution_count": 30,
      "outputs": [
        {
          "output_type": "execute_result",
          "data": {
            "text/html": [
              "<div>\n",
              "<style scoped>\n",
              "    .dataframe tbody tr th:only-of-type {\n",
              "        vertical-align: middle;\n",
              "    }\n",
              "\n",
              "    .dataframe tbody tr th {\n",
              "        vertical-align: top;\n",
              "    }\n",
              "\n",
              "    .dataframe thead th {\n",
              "        text-align: right;\n",
              "    }\n",
              "</style>\n",
              "<table border=\"1\" class=\"dataframe\">\n",
              "  <thead>\n",
              "    <tr style=\"text-align: right;\">\n",
              "      <th></th>\n",
              "      <th></th>\n",
              "      <th></th>\n",
              "      <th></th>\n",
              "      <th></th>\n",
              "      <th>Medal</th>\n",
              "    </tr>\n",
              "    <tr>\n",
              "      <th>NOC</th>\n",
              "      <th>Sport</th>\n",
              "      <th>Year</th>\n",
              "      <th>City</th>\n",
              "      <th>Event gender</th>\n",
              "      <th></th>\n",
              "    </tr>\n",
              "  </thead>\n",
              "  <tbody>\n",
              "    <tr>\n",
              "      <th rowspan=\"5\" valign=\"top\">AUS</th>\n",
              "      <th rowspan=\"2\" valign=\"top\">Skating</th>\n",
              "      <th>1994</th>\n",
              "      <th>Lillehammer</th>\n",
              "      <th>M</th>\n",
              "      <td>1</td>\n",
              "    </tr>\n",
              "    <tr>\n",
              "      <th>2002</th>\n",
              "      <th>Salt Lake City</th>\n",
              "      <th>M</th>\n",
              "      <td>1</td>\n",
              "    </tr>\n",
              "    <tr>\n",
              "      <th rowspan=\"3\" valign=\"top\">Skiing</th>\n",
              "      <th>1998</th>\n",
              "      <th>Nagano</th>\n",
              "      <th>W</th>\n",
              "      <td>1</td>\n",
              "    </tr>\n",
              "    <tr>\n",
              "      <th>2002</th>\n",
              "      <th>Salt Lake City</th>\n",
              "      <th>W</th>\n",
              "      <td>1</td>\n",
              "    </tr>\n",
              "    <tr>\n",
              "      <th>2006</th>\n",
              "      <th>Turin</th>\n",
              "      <th>M</th>\n",
              "      <td>1</td>\n",
              "    </tr>\n",
              "    <tr>\n",
              "      <th>...</th>\n",
              "      <th>...</th>\n",
              "      <th>...</th>\n",
              "      <th>...</th>\n",
              "      <th>...</th>\n",
              "      <td>...</td>\n",
              "    </tr>\n",
              "    <tr>\n",
              "      <th>USA</th>\n",
              "      <th>Skiing</th>\n",
              "      <th>2006</th>\n",
              "      <th>Turin</th>\n",
              "      <th>W</th>\n",
              "      <td>5</td>\n",
              "    </tr>\n",
              "    <tr>\n",
              "      <th>UZB</th>\n",
              "      <th>Skiing</th>\n",
              "      <th>1994</th>\n",
              "      <th>Lillehammer</th>\n",
              "      <th>W</th>\n",
              "      <td>1</td>\n",
              "    </tr>\n",
              "    <tr>\n",
              "      <th rowspan=\"3\" valign=\"top\">YUG</th>\n",
              "      <th rowspan=\"3\" valign=\"top\">Skiing</th>\n",
              "      <th>1984</th>\n",
              "      <th>Sarajevo</th>\n",
              "      <th>M</th>\n",
              "      <td>1</td>\n",
              "    </tr>\n",
              "    <tr>\n",
              "      <th rowspan=\"2\" valign=\"top\">1988</th>\n",
              "      <th rowspan=\"2\" valign=\"top\">Calgary</th>\n",
              "      <th>M</th>\n",
              "      <td>2</td>\n",
              "    </tr>\n",
              "    <tr>\n",
              "      <th>W</th>\n",
              "      <td>1</td>\n",
              "    </tr>\n",
              "  </tbody>\n",
              "</table>\n",
              "<p>969 rows × 1 columns</p>\n",
              "</div>"
            ],
            "text/plain": [
              "                                              Medal\n",
              "NOC Sport   Year City           Event gender       \n",
              "AUS Skating 1994 Lillehammer    M                 1\n",
              "            2002 Salt Lake City M                 1\n",
              "    Skiing  1998 Nagano         W                 1\n",
              "            2002 Salt Lake City W                 1\n",
              "            2006 Turin          M                 1\n",
              "...                                             ...\n",
              "USA Skiing  2006 Turin          W                 5\n",
              "UZB Skiing  1994 Lillehammer    W                 1\n",
              "YUG Skiing  1984 Sarajevo       M                 1\n",
              "            1988 Calgary        M                 2\n",
              "                                W                 1\n",
              "\n",
              "[969 rows x 1 columns]"
            ]
          },
          "metadata": {
            "tags": []
          },
          "execution_count": 30
        }
      ]
    }
  ]
}